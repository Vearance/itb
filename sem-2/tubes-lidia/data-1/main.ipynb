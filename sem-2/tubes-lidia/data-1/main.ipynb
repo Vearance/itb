{
 "cells": [
  {
   "cell_type": "markdown",
   "metadata": {},
   "source": [
    "#### Global Salaries in Cybersecurity "
   ]
  },
  {
   "cell_type": "code",
   "execution_count": 16,
   "metadata": {},
   "outputs": [],
   "source": [
    "# import numpy as np \n",
    "import pandas as pd\n",
    "# import matplotlib.pyplot as plt\n",
    "from sklearn.model_selection import train_test_split"
   ]
  },
  {
   "cell_type": "code",
   "execution_count": 17,
   "metadata": {},
   "outputs": [],
   "source": [
    "train_df = pd.read_csv(\"salaries.csv\")\n",
    "# train_df, test_df = train_test_split(train_df, test_size=0.2)"
   ]
  },
  {
   "cell_type": "code",
   "execution_count": 18,
   "metadata": {},
   "outputs": [
    {
     "data": {
      "text/html": [
       "<div>\n",
       "<style scoped>\n",
       "    .dataframe tbody tr th:only-of-type {\n",
       "        vertical-align: middle;\n",
       "    }\n",
       "\n",
       "    .dataframe tbody tr th {\n",
       "        vertical-align: top;\n",
       "    }\n",
       "\n",
       "    .dataframe thead th {\n",
       "        text-align: right;\n",
       "    }\n",
       "</style>\n",
       "<table border=\"1\" class=\"dataframe\">\n",
       "  <thead>\n",
       "    <tr style=\"text-align: right;\">\n",
       "      <th></th>\n",
       "      <th>work_year</th>\n",
       "      <th>experience_level</th>\n",
       "      <th>employment_type</th>\n",
       "      <th>job_title</th>\n",
       "      <th>salary</th>\n",
       "      <th>salary_currency</th>\n",
       "      <th>salary_in_usd</th>\n",
       "      <th>employee_residence</th>\n",
       "      <th>remote_ratio</th>\n",
       "      <th>company_location</th>\n",
       "      <th>company_size</th>\n",
       "    </tr>\n",
       "  </thead>\n",
       "  <tbody>\n",
       "    <tr>\n",
       "      <th>0</th>\n",
       "      <td>2025</td>\n",
       "      <td>SE</td>\n",
       "      <td>FT</td>\n",
       "      <td>DevSecOps Engineer</td>\n",
       "      <td>143893</td>\n",
       "      <td>USD</td>\n",
       "      <td>143893</td>\n",
       "      <td>US</td>\n",
       "      <td>0</td>\n",
       "      <td>US</td>\n",
       "      <td>M</td>\n",
       "    </tr>\n",
       "    <tr>\n",
       "      <th>1</th>\n",
       "      <td>2025</td>\n",
       "      <td>SE</td>\n",
       "      <td>FT</td>\n",
       "      <td>DevSecOps Engineer</td>\n",
       "      <td>129706</td>\n",
       "      <td>USD</td>\n",
       "      <td>129706</td>\n",
       "      <td>US</td>\n",
       "      <td>0</td>\n",
       "      <td>US</td>\n",
       "      <td>M</td>\n",
       "    </tr>\n",
       "    <tr>\n",
       "      <th>2</th>\n",
       "      <td>2025</td>\n",
       "      <td>MI</td>\n",
       "      <td>FT</td>\n",
       "      <td>Software Engineer</td>\n",
       "      <td>160000</td>\n",
       "      <td>USD</td>\n",
       "      <td>160000</td>\n",
       "      <td>US</td>\n",
       "      <td>0</td>\n",
       "      <td>US</td>\n",
       "      <td>M</td>\n",
       "    </tr>\n",
       "    <tr>\n",
       "      <th>3</th>\n",
       "      <td>2025</td>\n",
       "      <td>MI</td>\n",
       "      <td>FT</td>\n",
       "      <td>Software Engineer</td>\n",
       "      <td>128000</td>\n",
       "      <td>USD</td>\n",
       "      <td>128000</td>\n",
       "      <td>US</td>\n",
       "      <td>0</td>\n",
       "      <td>US</td>\n",
       "      <td>M</td>\n",
       "    </tr>\n",
       "    <tr>\n",
       "      <th>4</th>\n",
       "      <td>2025</td>\n",
       "      <td>SE</td>\n",
       "      <td>FT</td>\n",
       "      <td>Security Engineer</td>\n",
       "      <td>220000</td>\n",
       "      <td>USD</td>\n",
       "      <td>220000</td>\n",
       "      <td>US</td>\n",
       "      <td>100</td>\n",
       "      <td>US</td>\n",
       "      <td>M</td>\n",
       "    </tr>\n",
       "  </tbody>\n",
       "</table>\n",
       "</div>"
      ],
      "text/plain": [
       "   work_year experience_level employment_type           job_title  salary  \\\n",
       "0       2025               SE              FT  DevSecOps Engineer  143893   \n",
       "1       2025               SE              FT  DevSecOps Engineer  129706   \n",
       "2       2025               MI              FT   Software Engineer  160000   \n",
       "3       2025               MI              FT   Software Engineer  128000   \n",
       "4       2025               SE              FT   Security Engineer  220000   \n",
       "\n",
       "  salary_currency  salary_in_usd employee_residence  remote_ratio  \\\n",
       "0             USD         143893                 US             0   \n",
       "1             USD         129706                 US             0   \n",
       "2             USD         160000                 US             0   \n",
       "3             USD         128000                 US             0   \n",
       "4             USD         220000                 US           100   \n",
       "\n",
       "  company_location company_size  \n",
       "0               US            M  \n",
       "1               US            M  \n",
       "2               US            M  \n",
       "3               US            M  \n",
       "4               US            M  "
      ]
     },
     "metadata": {},
     "output_type": "display_data"
    },
    {
     "name": "stdout",
     "output_type": "stream",
     "text": [
      "\n",
      "Dimensions: 48036 rows × 11 columns\n"
     ]
    }
   ],
   "source": [
    "display(train_df.head())\n",
    "\n",
    "print(f\"\\nDimensions: {train_df.shape[0]} rows × {train_df.shape[1]} columns\")"
   ]
  },
  {
   "cell_type": "code",
   "execution_count": 19,
   "metadata": {},
   "outputs": [
    {
     "name": "stdout",
     "output_type": "stream",
     "text": [
      "Null values in train_df:\n",
      "work_year             0\n",
      "experience_level      0\n",
      "employment_type       0\n",
      "job_title             0\n",
      "salary                0\n",
      "salary_currency       0\n",
      "salary_in_usd         0\n",
      "employee_residence    0\n",
      "remote_ratio          0\n",
      "company_location      0\n",
      "company_size          0\n",
      "dtype: int64\n"
     ]
    }
   ],
   "source": [
    "print(\"Null values in train_df:\")\n",
    "print(train_df.isnull().sum())\n",
    "\n",
    "# print(\"\\nNull values in test_df:\")\n",
    "# print(test_df.isnull().sum())"
   ]
  },
  {
   "cell_type": "code",
   "execution_count": 20,
   "metadata": {},
   "outputs": [
    {
     "name": "stdout",
     "output_type": "stream",
     "text": [
      "Unique values in train_df:\n",
      "work_year: 6 unique values\n",
      "experience_level: 4 unique values\n",
      "employment_type: 4 unique values\n",
      "job_title: 377 unique values\n",
      "salary: 5782 unique values\n",
      "salary_currency: 22 unique values\n",
      "salary_in_usd: 6436 unique values\n",
      "employee_residence: 87 unique values\n",
      "remote_ratio: 3 unique values\n",
      "company_location: 86 unique values\n",
      "company_size: 3 unique values\n"
     ]
    }
   ],
   "source": [
    "# Unique values in train_df\n",
    "print(\"Unique values in train_df:\")\n",
    "for column in train_df.columns:\n",
    "    print(f\"{column}: {train_df[column].nunique()} unique values\")\n",
    "\n",
    "# Unique values in test_df\n",
    "# print(\"\\nUnique values in test_df:\")\n",
    "# for column in test_df.columns:\n",
    "#     print(f\"{column}: {test_df[column].nunique()} unique values\")"
   ]
  },
  {
   "cell_type": "code",
   "execution_count": 21,
   "metadata": {},
   "outputs": [
    {
     "name": "stdout",
     "output_type": "stream",
     "text": [
      "work_year: Range = 2020 to 2025\n",
      "salary: Range = 14400 to 600000000\n",
      "salary_in_usd: Range = 15061 to 750000\n",
      "remote_ratio: Range = 0 to 100\n",
      "experience_level: Unique values = SE, MI, EN, EX\n",
      "employment_type: Unique values = FT, CT, PT, FL\n",
      "job_title: Unique values = DevSecOps Engineer, Software Engineer, Security Engineer, Security Architect, Security Analyst, Program Manager, Intelligence Analyst, Analyst, Manager, Customer Success Engineer, Malware Analyst, Systems Administrator, System Engineer, Product Owner, Consultant, Information Security Risk Specialist, Threat Analyst, Vulnerability Engineer, Systems Architect, Network Engineer, Systems Engineer, Security Sales Specialist, Compliance Specialist, Data Analyst, Cyber Security, Technical Account Manager, Associate, Enterprise Architect, Full Stack Developer, Risk Analyst, Threat Intelligence Analyst, DevSecOps, Security Specialist, Data Engineer, Isso, Software Developer, Product Manager, SIEM Engineer, Compliance Officer, Site Reliability Engineer, Digital Network Exploitation Analyst, Incident Response Analyst, Security Manager, GRC Analyst, Compliance Analyst, SOC Analyst, Security Administrator, Penetration Tester, Information Security Officer, Incident Response Lead, Security Operations Analyst, DevOps Engineer, IAM Engineer, IT Specialist, Solutions Engineer, Threat Hunter, Reverse Engineer, Identity Engineer, Project Manager, Information Systems Security Manager, Infrastructure Engineer, Penetration Testing Engineer, Test Engineer, Account Executive, Cyber Incident Response Attorney, Detection and Response Engineer, SecOps Engineer, Director of Information Technology, Cyber Security Manager, Cyber Threat Intelligence Analyst, Cyber Engineer, Cyber Architect, System Administrator, Manager Information Security, Threat Intelligence Specialist, Information Assurance Analyst, IT Auditor, Security Control Assessor, Vulnerability Management Analyst, Ethical Hacker, Splunk Engineer, Sales Engineer, Cloud Security Engineer, GRC Engineer, Systems Integration Engineer, Principal Engineer, Cyber Security Specialist, Splunk Administrator, Information Security Specialist, Security Operations Manager, Threat Intelligence Lead, Technical Support Engineer, Detection Engineer, Security Operations Center Manager, Privacy Manager, Platform Engineer, Security Compliance Engineer, Security Researcher, Information System Security Manager, Information Assurance Engineer, Vulnerability Management Engineer, IT Security Expert, Solutions Architect, Cryptologic Computer Scientist, Cyber Network Defense Analyst, Incident Response Specialist, Application Security Manager, Technical Lead, Security Consultant, Vulnerability Analyst, Security Operations Engineer, Firewall Engineer, Red Team Operator, SOC Manager, Privacy Officer, Cyber Threat Analyst, IAM Architect, IT Manager, Network Analyst, Security Expert, Pentester, Cyber Defense Analyst, Product Support Engineer, Automation Engineer, Solution Architect, Business Analyst, Security Operations Specialist, Incident Responder, Information Security Manager, Privacy Engineer, Data Scientist, Information Assurance Specialist, Security Solution Architect, Security Lead, SOC Engineer, Professional Services Consultant, Customer Success Manager, Security Developer, Cloud Engineer, Insider Threat Analyst, Electronic Warfare Engineer, Director of Information Security, Strategic Account Manager, Cyber Intelligence Analyst, Network Administrator, Security Research Engineer, Regional Account Manager, Technical Targeting Analyst, Sales Development Representative, Application Security Lead, Cyber Analyst, Internal Auditor, Database Engineer, Head of Security, Technical Writer, Director of IT, DevOps Architect, CyberArk Engineer, Compliance Manager, Vulnerability Researcher, Information Security Risk Analyst, Cloud Architect, Information Security Director, Cyber Risk Analyst, Machine Learning Engineer, SOC Lead, Cyber Security Lead, Cyber Security Project Engineer, Dev Security Operations, Cyber Security Advisor, Computer Operator, Exploitation Analyst Level 3, Director of Security, User Support Technician, Biothreats Technical Targeter, Resident Engineer, Cryptologic Computer Scientist 3, Cryptologic Computer Scientist 2, DevSecOps Architect, Software Development Engineer, Cyber Mission Specialist, Cyber Incident Responder, IT Security Team Lead, OSINT Analyst, SOAR Engineer, Information Security Lead, Lead Analyst, QA Engineer, Risk Manager, IT Audit Manager, Cyber Range Engineer, Threat Researcher, Backend Engineer, IT Director, Incident Response Engineer, Exploit Developer, Head of Information Security, Data Architect, Product Security Lead, Director Information Security, GRC Specialist, Security Technical Specialist, Cyber Threat Hunter, Security Risk Analyst, Security Controls Assessor, SOC Team Lead, Principal Software Architect, Digital Forensic Analyst, Incident Response Manager, Cyber Security Analyst, Issm, Head of IT Security, IAM Analyst, IT Internal Auditor, Cyber Threat Hunt Analyst, Security Operation Engineer, Linux System Administrator, PKI Engineer, Incident Handler, Forensic Accountant, Cyber Operations Specialist, IT Operations Manager, Application Security Engineer, Vulnerability Management Specialist, CISO, Information Security Auditor, ServiceNow Developer, Staff Security Contracts Manager, GRC Consultant, Cloud Security SME, Windows System Administrator, Insider Threat Investigator, Intrusion Analyst 3, IT Security Auditor, Help Desk Technician, Security Operations Lead, Information Security Systems Manager, IT Support Specialist, PKI Architect, Detection & Response Engineer, Cyber Security Researcher, Threat Specialist, Security Delivery Lead, Compliance Associate, Security Engineer 3, AI Security Engineer, Technology Risk Manager, Target Digital Network Analyst, Head of Cyber Security, Cyber Security Architect, Principal Cyber Security Engineer, Platform Security Engineer, Red Team Lead, Principal Security Architect, Staff Cyber Security Engineer, Information Security GRC Specialist, Information Security Engineer, Cyber Security Engineer, Malware Reverse Engineer, Cyber Threat Intelligence Specialist, Systems Analyst, Cyber Operations Analyst, Principal Security Engineer, Security Software Engineer, Information Security Consultant, Cloud Security Engineering Manager, System Security Engineer, Threat Detection Engineer, Security Engineering Lead, Information Systems Security Engineer, Offensive Security Engineer, Information Security Administrator, Cyber Security Consultant, Security Operations Team Lead, Cyber Content Development Trainer, IT Security Manager, Incident Response Expert, Compliance Counsel, Cyber Support Engineer, Threat Hunting Analyst, Russian OSINT Specialist, Electronic Warfare Operator, Threat Intelligence Researcher, Enterprise Security Architect, Cyber Risk Manager, Data Privacy Officer, Security Assurance Analyst, Information Security Risk Manager, Information Security Analyst, Digital Forensics Analyst, Software Reverse Engineer, Attack Surface Analyst, Vulnerability Assessment Analyst, Cyberspace Intelligence Analyst, Security Solutions Architect, Risk Operations Analyst, Vulnerability Management Lead, IT Security Professional, Exploitation Analyst 3, Network Security Manager, Principal Product Manager, Cyber Security Project Manager, Principal Product Security Engineer, Staff Data Engineer, IAM Specialist, Vulnerability Manager, IT Security Associate, Information Security Advisor, Professional Services Engineer, SecOps Analyst, Enterprise Sales Representative, Global Information Security Specialist, Security Program Manager, Lead GRC Analyst, GRC Director, IT Security Analyst, Staff Detection Engineer, Technical Consultant, Cyber Security Technologist, Cyber Project Manager, DevSecOps Specialist, Cyber Systems Engineer, SecDevOps Engineer, Information Security Architect, Head of Security Operations, Incident Response Consultant, Information Security Associate, Lead Security Solutions Engineer, Information Security Program Manager, Security Compliance Specialist, Network Security Engineer, Cyber Security Training Specialist, Infosec Risk Manager, Staff Security Engineer, Zero Trust Architect, Splunk Content Developer, Security Compliance Manager, DevOps Security Engineer, Information Security GRC Manager, Information System Security Engineer, Cloud Security Architect, Cyber Program Manager, Security Analytics Lead, GRC Manager, Cloud Cyber Security Analyst, Security DevOps Engineer, Lead Information Security Engineer, Product Security Manager, Systems Security Engineer, Security Incident Response Engineer, Lead Security Engineer, Infrastructure Security Engineer, Application Security Analyst, Security Engineering Manager, Data Security Analyst, DLP Security Engineer, Software Security Engineer, Application Security Architect, IT Security Specialist, Corporate Security Engineer, Information Security Compliance Lead, Information Security Compliance Analyst, IT Security Engineer, Information Security Compliance Manager, Application Security Specialist, Principal Application Security Engineer, Staff Application Security Engineer, Azure Security Engineer, Computer Forensic Software Engineer, Product Security Engineer, Threat Hunting Lead, Threat Intelligence Response Analyst, Enterprise Security Engineer, Principal Cloud Security Engineer, Corporate Infrastructure Security Engineer, Lead Application Security Engineer, Concierge Security Engineer\n",
      "salary_currency: Unique values = USD, EUR, CHF, INR, GBP, PLN, CAD, MXN, JPY, PHP, DKK, AUD, NOK, ZAR, BRL, CZK, NZD, SEK, IDR, SGD, ILS, HUF\n",
      "employee_residence: Unique values = US, IT, CA, DE, KR, LT, CH, IE, GB, SK, AT, PL, NL, AU, BE, ES, DK, NZ, BG, FR, FI, GT, CL, AR, CO, PH, EC, BR, LV, JP, IQ, IN, MX, PT, GR, KW, ZW, SG, HK, LU, NO, AE, HR, SM, MT, ZA, CR, PK, EG, ID, TR, CY, EE, IL, DJ, KE, GU, RW, AL, AZ, AM, ME, MK, CZ, HN, SE, JE, RO, UZ, KZ, TH, LB, VN, SI, MY, NG, JO, HU, PY, BW, TW, GH, AF, KG, IR, SA, RU\n",
      "company_location: Unique values = US, IT, CA, DE, KR, LT, CH, IE, GB, SK, AT, PL, NL, AU, BE, ES, DK, NZ, BG, FR, FI, GT, CL, AR, CO, PH, EC, BR, LV, JP, IQ, IN, MX, PT, GR, LU, KW, ZW, SG, HK, NO, AE, HR, SM, MT, ZA, CR, PK, EG, ID, TR, CY, EE, IL, DJ, KE, GU, RW, AL, AZ, AM, ME, MK, CZ, HN, SE, JE, RO, UZ, KZ, TH, LB, VN, SI, MY, NG, HU, PY, BW, AQ, AX, RU, RS, UM, SA, AF\n",
      "company_size: Unique values = M, L, S\n"
     ]
    }
   ],
   "source": [
    "# Numerical columns: calculate range\n",
    "numerical_columns = train_df.select_dtypes(include=['int64', 'float64']).columns\n",
    "for column in numerical_columns:\n",
    "    print(f\"{column}: Range = {train_df[column].min()} to {train_df[column].max()}\")\n",
    "\n",
    "# Categorical columns: list unique values\n",
    "categorical_columns = train_df.select_dtypes(include=['object']).columns\n",
    "for column in categorical_columns:\n",
    "    unique_values = train_df[column].unique()\n",
    "    print(f\"{column}: Unique values = {', '.join(map(str, unique_values))}\")"
   ]
  },
  {
   "cell_type": "code",
   "execution_count": null,
   "metadata": {},
   "outputs": [],
   "source": []
  }
 ],
 "metadata": {
  "kernelspec": {
   "display_name": "Python 3",
   "language": "python",
   "name": "python3"
  },
  "language_info": {
   "codemirror_mode": {
    "name": "ipython",
    "version": 3
   },
   "file_extension": ".py",
   "mimetype": "text/x-python",
   "name": "python",
   "nbconvert_exporter": "python",
   "pygments_lexer": "ipython3",
   "version": "3.11.9"
  }
 },
 "nbformat": 4,
 "nbformat_minor": 2
}
